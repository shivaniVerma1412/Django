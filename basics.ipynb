{
 "cells": [
  {
   "cell_type": "code",
   "execution_count": 1,
   "metadata": {},
   "outputs": [],
   "source": [
    "def khuchbhi():\n",
    "    a = 10\n",
    "    b = 20\n",
    "    c = a+b\n",
    "    print(f'The sum of a and b is {c}')\n",
    "    khuchbhi()"
   ]
  },
  {
   "cell_type": "code",
   "execution_count": 4,
   "metadata": {},
   "outputs": [
    {
     "data": {
      "text/plain": [
       "str"
      ]
     },
     "execution_count": 4,
     "metadata": {},
     "output_type": "execute_result"
    }
   ],
   "source": [
    "name = \"shivani\"\n",
    "city = 'london'\n",
    "# type check\n",
    "type(name)"
   ]
  },
  {
   "cell_type": "code",
   "execution_count": 1,
   "metadata": {},
   "outputs": [
    {
     "name": "stdout",
     "output_type": "stream",
     "text": [
      "a is greater than 5\n"
     ]
    }
   ],
   "source": [
    "a = 10\n",
    "if a>5:\n",
    "    print(\"a is greater than 5\")\n",
    "    if a>15:\n",
    "        print(\"a is greater than 5\")\n",
    "else:\n",
    "        print(\"a is less than 15\")\n",
    "\n",
    "    \n",
    "        a,b,c = 10, 15, 30\n",
    "if a > b and a > c\n",
    "        print(\"A is the greatest\")\n",
    "elif b > a and b>c :\n",
    "\n",
    "       print (\"B is the greates\")\n",
    "elif\n",
    "        print( \"C is the greatest\")\n",
    "\n",
    "        \n"
   ]
  },
  {
   "cell_type": "code",
   "execution_count": 4,
   "metadata": {},
   "outputs": [
    {
     "name": "stdout",
     "output_type": "stream",
     "text": [
      "❤️1\n",
      "❤️2\n",
      "❤️3\n",
      "❤️4\n",
      "❤️5\n"
     ]
    }
   ],
   "source": [
    "numbers = [ 1, 2,3,4,5]\n",
    "for n in numbers:\n",
    "    print( f\"❤️{n}\")"
   ]
  },
  {
   "cell_type": "code",
   "execution_count": 9,
   "metadata": {},
   "outputs": [
    {
     "name": "stdout",
     "output_type": "stream",
     "text": [
      "mango\n",
      "apple\n",
      "grapes\n",
      "pineapple\n",
      "watermelon\n"
     ]
    }
   ],
   "source": [
    "fruits = ['mango','apple','' , 'grapes','','pineapple','watermelon']\n",
    "for fruit in fruits :\n",
    "    if  len( fruit) == 0:\n",
    "      continue             #skip\n",
    "    print(fruit)\n"
   ]
  },
  {
   "cell_type": "code",
   "execution_count": 16,
   "metadata": {},
   "outputs": [
    {
     "name": "stdout",
     "output_type": "stream",
     "text": [
      "['leo', 'kalki']\n",
      "[1, 2, 3, 4, 5]\n"
     ]
    },
    {
     "ename": "NameError",
     "evalue": "name 'nested' is not defined",
     "output_type": "error",
     "traceback": [
      "\u001b[1;31m---------------------------------------------------------------------------\u001b[0m",
      "\u001b[1;31mNameError\u001b[0m                                 Traceback (most recent call last)",
      "Cell \u001b[1;32mIn[16], line 6\u001b[0m\n\u001b[0;32m      4\u001b[0m \u001b[38;5;28mprint\u001b[39m(movies)\n\u001b[0;32m      5\u001b[0m \u001b[38;5;28mprint\u001b[39m(x)\n\u001b[1;32m----> 6\u001b[0m \u001b[38;5;28mprint\u001b[39m( nested\u001b[38;5;241m-\u001b[39m\u001b[38;5;28mlist\u001b[39m)\n\u001b[0;32m      7\u001b[0m \u001b[38;5;28;01mfor\u001b[39;00m n \u001b[38;5;129;01min\u001b[39;00m x:\n\u001b[0;32m      8\u001b[0m     \u001b[38;5;28mprint\u001b[39m(x)\n",
      "\u001b[1;31mNameError\u001b[0m: name 'nested' is not defined"
     ]
    }
   ],
   "source": [
    "movies = [ \"leo\" , \"kalki\"  ]\n",
    "x = [1,2,3,4,5]\n",
    "nested_list = [[1,2,3,4,] , [5,6,7,8,9]]\n",
    "print(movies)\n",
    "print(x)\n",
    "print( nested-list)\n",
    "for n in x:\n",
    "    print(x)\n",
    "\n"
   ]
  },
  {
   "cell_type": "code",
   "execution_count": null,
   "metadata": {},
   "outputs": [],
   "source": [
    "movies=[]"
   ]
  },
  {
   "cell_type": "code",
   "execution_count": 8,
   "metadata": {},
   "outputs": [
    {
     "name": "stdout",
     "output_type": "stream",
     "text": [
      "43\n"
     ]
    }
   ],
   "source": [
    "number = 1234555666\n",
    "total = 0\n",
    "while number > 0 :\n",
    "    total += number % 10\n",
    "    number //= 10\n",
    "print(total)"
   ]
  },
  {
   "cell_type": "code",
   "execution_count": 5,
   "metadata": {},
   "outputs": [
    {
     "name": "stdout",
     "output_type": "stream",
     "text": [
      "11\n",
      "31\n"
     ]
    }
   ],
   "source": [
    "a = 10\n",
    "b = 20\n",
    "#update\n",
    "a=11\n",
    "b = a+b\n",
    "print(a)\n",
    "print(b)"
   ]
  },
  {
   "cell_type": "code",
   "execution_count": 6,
   "metadata": {},
   "outputs": [
    {
     "name": "stdout",
     "output_type": "stream",
     "text": [
      "42\n",
      "-20\n",
      "0.3548387096774194\n",
      "341\n",
      "191943424957750480504146841291811\n",
      "0\n",
      "11\n"
     ]
    }
   ],
   "source": [
    "print(a + b)  #assingnment\n",
    "print(a - b)\n",
    "print(a / b) #float division\n",
    "print(a * b)\n",
    "print(a ** b) #expotatitation\n",
    "print(a // b) #integer (division)\n",
    "print(a % b)  #modulo (reminder)\n"
   ]
  },
  {
   "cell_type": "code",
   "execution_count": 7,
   "metadata": {},
   "outputs": [
    {
     "name": "stdout",
     "output_type": "stream",
     "text": [
      "5\n",
      "15\n"
     ]
    }
   ],
   "source": [
    "x = 5\n",
    "print(x)\n",
    "x+=10\n",
    "print(x)\n"
   ]
  },
  {
   "cell_type": "code",
   "execution_count": 8,
   "metadata": {},
   "outputs": [
    {
     "name": "stdout",
     "output_type": "stream",
     "text": [
      "False\n"
     ]
    }
   ],
   "source": [
    "#logical opreators(and, or, not)\n",
    "print(x>10 and x<10)"
   ]
  },
  {
   "cell_type": "code",
   "execution_count": 11,
   "metadata": {},
   "outputs": [
    {
     "name": "stdout",
     "output_type": "stream",
     "text": [
      "['apple', 'banana', 'cherry']\n",
      "True\n",
      "False\n"
     ]
    }
   ],
   "source": [
    "#membership opretors(in,not in)\n",
    "fruits = [ 'apple', 'banana','cherry']\n",
    "print(fruits)\n",
    "print('apple' in fruits)\n",
    "print('grapes' in fruits)\n",
    "\n",
    "\n"
   ]
  },
  {
   "cell_type": "code",
   "execution_count": 14,
   "metadata": {},
   "outputs": [
    {
     "name": "stdout",
     "output_type": "stream",
     "text": [
      "leo\n",
      "kgf\n",
      "bahubali\n",
      "heeramandi\n"
     ]
    }
   ],
   "source": [
    "movies=[\"leo\",\"kgf\",\"bahubali\",\"heeramandi\"]\n",
    "for movie in movies:\n",
    "    print(movie)\n"
   ]
  },
  {
   "cell_type": "code",
   "execution_count": 17,
   "metadata": {},
   "outputs": [
    {
     "name": "stdout",
     "output_type": "stream",
     "text": [
      "leo\n",
      "kalki\n",
      "dhoom\n",
      "gadar\n",
      "tere naam\n"
     ]
    }
   ],
   "source": [
    "movies.append ('dhoom')\n",
    "movies.append ('kgf')\n",
    "movies.append ('tere naam')\n",
    "for movie in movies:\n",
    "    print(movie)"
   ]
  },
  {
   "cell_type": "code",
   "execution_count": 21,
   "metadata": {},
   "outputs": [
    {
     "ename": "ValueError",
     "evalue": "list.remove(x): x not in list",
     "output_type": "error",
     "traceback": [
      "\u001b[1;31m---------------------------------------------------------------------------\u001b[0m",
      "\u001b[1;31mValueError\u001b[0m                                Traceback (most recent call last)",
      "Cell \u001b[1;32mIn[21], line 1\u001b[0m\n\u001b[1;32m----> 1\u001b[0m movies\u001b[38;5;241m.\u001b[39mremove (\u001b[38;5;124m'\u001b[39m\u001b[38;5;124mkgf\u001b[39m\u001b[38;5;124m'\u001b[39m)\n\u001b[0;32m      2\u001b[0m movies\u001b[38;5;241m.\u001b[39mremove (\u001b[38;5;124m'\u001b[39m\u001b[38;5;124mbahubali\u001b[39m\u001b[38;5;124m'\u001b[39m)\n\u001b[0;32m      3\u001b[0m \u001b[38;5;28;01mfor\u001b[39;00m movie \u001b[38;5;129;01min\u001b[39;00m movies:\n",
      "\u001b[1;31mValueError\u001b[0m: list.remove(x): x not in list"
     ]
    }
   ],
   "source": [
    "movies.remove ('kgf')\n",
    "movies.remove ('bahubali')\n",
    "for movie in movies:\n",
    "    print(movie)"
   ]
  }
 ],
 "metadata": {
  "kernelspec": {
   "display_name": "Python 3",
   "language": "python",
   "name": "python3"
  },
  "language_info": {
   "codemirror_mode": {
    "name": "ipython",
    "version": 3
   },
   "file_extension": ".py",
   "mimetype": "text/x-python",
   "name": "python",
   "nbconvert_exporter": "python",
   "pygments_lexer": "ipython3",
   "version": "3.11.5"
  }
 },
 "nbformat": 4,
 "nbformat_minor": 2
}
