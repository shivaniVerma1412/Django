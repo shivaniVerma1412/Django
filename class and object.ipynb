{
 "cells": [
  {
   "cell_type": "markdown",
   "metadata": {},
   "source": [
    "#class and object"
   ]
  },
  {
   "cell_type": "code",
   "execution_count": 1,
   "metadata": {},
   "outputs": [],
   "source": [
    "class student :\n",
    "    name =\"\"\n",
    "    rollno=\"\"\n",
    "    klass=\"\"\n",
    "\n",
    "    def show(self):\n",
    "     print(self.name)\n",
    "     print(self.rollno)\n",
    "     print(self.klass)\n"
   ]
  },
  {
   "cell_type": "code",
   "execution_count": 2,
   "metadata": {},
   "outputs": [],
   "source": [
    "#object creation\n",
    "s1 =  student() #object creation using constructor\n",
    "s1.name = \"Rahul\"\n",
    "s1.rollno = '005'\n",
    "s1.klass = '6th'"
   ]
  },
  {
   "cell_type": "code",
   "execution_count": 4,
   "metadata": {},
   "outputs": [
    {
     "name": "stdout",
     "output_type": "stream",
     "text": [
      "Rahul\n",
      "005\n",
      "6th\n"
     ]
    }
   ],
   "source": [
    "s1.show()"
   ]
  }
 ],
 "metadata": {
  "kernelspec": {
   "display_name": "base",
   "language": "python",
   "name": "python3"
  },
  "language_info": {
   "codemirror_mode": {
    "name": "ipython",
    "version": 3
   },
   "file_extension": ".py",
   "mimetype": "text/x-python",
   "name": "python",
   "nbconvert_exporter": "python",
   "pygments_lexer": "ipython3",
   "version": "3.11.5"
  }
 },
 "nbformat": 4,
 "nbformat_minor": 2
}
