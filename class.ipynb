{
 "cells": [
  {
   "cell_type": "code",
   "execution_count": 13,
   "metadata": {},
   "outputs": [],
   "source": [
    "class Bus:\n",
    "    \n",
    "    def __init__(self, number, driver, type, manufacturer):\n",
    "        self.number = number\n",
    "        self.driver = driver\n",
    "        self.bus_type = type\n",
    "        self.manufacturer = manufacturer\n",
    "\n",
    "    def info(self):\n",
    "        print(f\"Bus number: {self.number}\")\n",
    "        print(f\"Bus driver: {self.driver}\")\n",
    "        print(f\"Bus type: {self.bus_type}\")\n",
    "        print(f\"Bus manufacturer: {self.manufacturer}\")\n",
    "\n",
    "        \n",
    "    "
   ]
  },
  {
   "cell_type": "code",
   "execution_count": 14,
   "metadata": {},
   "outputs": [
    {
     "name": "stdout",
     "output_type": "stream",
     "text": [
      "Bus number: UP32 A4 4867\n",
      "Bus driver: Prakash\n",
      "Bus type: Non AC\n",
      "Bus manufacturer: TATA\n",
      "Bus number: UP32 A4 7878\n",
      "Bus driver: rahul\n",
      "Bus type: AC\n",
      "Bus manufacturer: VOLVO\n"
     ]
    }
   ],
   "source": [
    "b1 = Bus(\"UP32 A4 4867\", \"Prakash\",\"Non AC\",\"TATA\")\n",
    "b2 = Bus(\"UP32 A4 7878\", \"rahul\", \"AC\",\"VOLVO\")\n",
    "b1.info()\n",
    "b2.info()"
   ]
  },
  {
   "cell_type": "markdown",
   "metadata": {},
   "source": [
    "#inheritence\n",
    "paremt-child"
   ]
  },
  {
   "cell_type": "code",
   "execution_count": 15,
   "metadata": {},
   "outputs": [],
   "source": [
    "class Person:\n",
    "    \n",
    "    \n",
    "    def __init__(self, name, gender):\n",
    "        self.name = name\n",
    "        self.gender= gender\n",
    "\n",
    "    def show(self):\n",
    "        print(f'{self.name}and {self.gender}')\n",
    "        \n",
    "    "
   ]
  },
  {
   "cell_type": "code",
   "execution_count": 16,
   "metadata": {},
   "outputs": [],
   "source": [
    "class Engineer(Person):\n",
    "\n",
    "    def __init__(self,name,gender,type):\n",
    "        super().__init__(name,gender)\n",
    "        self.type = type\n",
    "        \n",
    "    "
   ]
  },
  {
   "cell_type": "code",
   "execution_count": 18,
   "metadata": {},
   "outputs": [
    {
     "name": "stdout",
     "output_type": "stream",
     "text": [
      "Rajand male\n",
      "Artiand Female\n"
     ]
    }
   ],
   "source": [
    "e1 = Engineer('Raj',  'male',  'civil')\n",
    "e1.show()\n",
    "p1 = Person(\"Arti\",  \"Female\")\n",
    "p1.show()"
   ]
  }
 ],
 "metadata": {
  "kernelspec": {
   "display_name": "base",
   "language": "python",
   "name": "python3"
  },
  "language_info": {
   "codemirror_mode": {
    "name": "ipython",
    "version": 3
   },
   "file_extension": ".py",
   "mimetype": "text/x-python",
   "name": "python",
   "nbconvert_exporter": "python",
   "pygments_lexer": "ipython3",
   "version": "3.11.5"
  }
 },
 "nbformat": 4,
 "nbformat_minor": 2
}
