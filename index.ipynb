{
 "cells": [
  {
   "cell_type": "markdown",
   "metadata": {},
   "source": [
    "\n",
    "key value pairs"
   ]
  },
  {
   "cell_type": "markdown",
   "metadata": {},
   "source": [
    "#dictionary"
   ]
  },
  {
   "cell_type": "code",
   "execution_count": 2,
   "metadata": {},
   "outputs": [
    {
     "name": "stdout",
     "output_type": "stream",
     "text": [
      "Blue\n"
     ]
    }
   ],
   "source": [
    "product1={\n",
    "    \"model\" : \"apple\",\n",
    "    \"color\" : \"Blue\",\n",
    "    \"price\" : \"1300000\",\n",
    "    \"name\":\"iphone\"\n",
    "}\n",
    "print(product1['color'])"
   ]
  },
  {
   "cell_type": "code",
   "execution_count": null,
   "metadata": {},
   "outputs": [],
   "source": []
  },
  {
   "cell_type": "code",
   "execution_count": 7,
   "metadata": {},
   "outputs": [
    {
     "name": "stdout",
     "output_type": "stream",
     "text": [
      "None\n",
      "not found\n",
      "1300000\n"
     ]
    }
   ],
   "source": [
    "\n",
    "#print(product1['ram])\n",
    "print(product1.get('ram')) #none\n",
    "print(product1.get('ram', 'not found')) # default value added\n",
    "print(product1.get('price','not found')) #default value will not displayed\n"
   ]
  },
  {
   "cell_type": "code",
   "execution_count": 8,
   "metadata": {},
   "outputs": [
    {
     "name": "stdout",
     "output_type": "stream",
     "text": [
      "sabzi ka kharcha250 rupay\n",
      "medicine ka kharcha1230 rupay\n",
      "phal ka kharcha100 rupay\n",
      "phone ka bil ka kharcha483 rupay\n"
     ]
    }
   ],
   "source": [
    "kharche = {\n",
    "    'sabzi': 250,\n",
    "    'medicine':1230,\n",
    "    'phal':100,\n",
    "    'phone ka bil':483,\n",
    "}\n",
    "#traversal\n",
    "for k,v in kharche.items():\n",
    "    print(f\"{k} ka kharcha{v} rupay\")"
   ]
  },
  {
   "cell_type": "markdown",
   "metadata": {},
   "source": [
    "#functions\n",
    " import math\n",
    " h = math.sqrt(p**2+b**2)"
   ]
  },
  {
   "cell_type": "code",
   "execution_count": 12,
   "metadata": {},
   "outputs": [
    {
     "name": "stdout",
     "output_type": "stream",
     "text": [
      "17.69180601295413\n",
      "5.0\n",
      "15.811388300841896\n",
      "19.924858845171276\n"
     ]
    }
   ],
   "source": [
    "import math\n",
    "p,b = 12,13\n",
    "h = math.sqrt(p**2+b**2)\n",
    "print(h)\n",
    "p,b = 3,4\n",
    "h = math.sqrt(p**2+b**2)\n",
    "print(h)\n",
    "p,b = 5,15\n",
    "h = math.sqrt(p**2+b**2)\n",
    "print(h)\n",
    "p,b = 6,19\n",
    "h = math.sqrt(p**2+b**2)\n",
    "print(h)"
   ]
  },
  {
   "cell_type": "code",
   "execution_count": 13,
   "metadata": {},
   "outputs": [],
   "source": [
    "#defination\n",
    "def hyp(p,b):\n",
    "    ans = math.sqrt(p**2+b**2)\n",
    "    return ans"
   ]
  },
  {
   "cell_type": "code",
   "execution_count": 14,
   "metadata": {},
   "outputs": [
    {
     "name": "stdout",
     "output_type": "stream",
     "text": [
      "5.0\n",
      "13.601470508735444\n",
      "26.92582403567252\n",
      "5.830951894845301\n",
      "9.486832980505138\n"
     ]
    }
   ],
   "source": [
    "#calling\n",
    "print(hyp(3,4))\n",
    "print(hyp(13,4))\n",
    "print(hyp(23,14))\n",
    "print(hyp(3,5))\n",
    "print(hyp(3,9))"
   ]
  },
  {
   "cell_type": "code",
   "execution_count": 32,
   "metadata": {},
   "outputs": [],
   "source": [
    "def abbr_generator(data):\n",
    "    words = data.split(',')\n",
    "    abbreviation = []\n",
    "    for word in words:\n",
    "        #print(word)\n",
    "        clean_word = word.strip()\n",
    "        abbr =''\n",
    "        for item in clean_word.split():\n",
    "            abbr+=item[0].upper()\n",
    "        abbreviation.append(abbr)\n",
    "    return abbreviation\n",
    "        \n",
    "\n",
    "        "
   ]
  },
  {
   "cell_type": "code",
   "execution_count": 33,
   "metadata": {},
   "outputs": [
    {
     "data": {
      "text/plain": [
       "['AN', 'BW', 'SJ', 'RDJ']"
      ]
     },
     "execution_count": 33,
     "metadata": {},
     "output_type": "execute_result"
    }
   ],
   "source": [
    "abbr_generator('alex newman, Bruce Wayne,Samuel jackson,Robert Downey jr')"
   ]
  },
  {
   "cell_type": "code",
   "execution_count": 34,
   "metadata": {},
   "outputs": [],
   "source": [
    "def word_count(sentence):\n",
    "    words = sentence.split()\n",
    "    size = len(words)\n",
    "    return size"
   ]
  },
  {
   "cell_type": "code",
   "execution_count": 35,
   "metadata": {},
   "outputs": [
    {
     "data": {
      "text/plain": [
       "4"
      ]
     },
     "execution_count": 35,
     "metadata": {},
     "output_type": "execute_result"
    }
   ],
   "source": [
    "word_count(\"I want to sleep\")"
   ]
  },
  {
   "cell_type": "code",
   "execution_count": 40,
   "metadata": {},
   "outputs": [
    {
     "data": {
      "text/plain": [
       "16"
      ]
     },
     "execution_count": 40,
     "metadata": {},
     "output_type": "execute_result"
    }
   ],
   "source": [
    "word_count(\"to learn coding, first you have to learn to look at the screen\")\n"
   ]
  },
  {
   "cell_type": "code",
   "execution_count": 2,
   "metadata": {},
   "outputs": [
    {
     "ename": "SyntaxError",
     "evalue": "invalid syntax. Perhaps you forgot a comma? (2320628621.py, line 9)",
     "output_type": "error",
     "traceback": [
      "\u001b[1;36m  Cell \u001b[1;32mIn[2], line 9\u001b[1;36m\u001b[0m\n\u001b[1;33m    print(self.roll no)\u001b[0m\n\u001b[1;37m          ^\u001b[0m\n\u001b[1;31mSyntaxError\u001b[0m\u001b[1;31m:\u001b[0m invalid syntax. Perhaps you forgot a comma?\n"
     ]
    }
   ],
   "source": [
    "class Student :\n",
    "    name = \"\"\n",
    "    klass=\"\"\n",
    "    rollno=\"\"\n",
    "\n",
    "    def show(self):\n",
    "        print(self.name)\n",
    "        print(self.klass)\n",
    "        print(self.roll no)"
   ]
  },
  {
   "cell_type": "markdown",
   "metadata": {},
   "source": [
    "#class and object"
   ]
  },
  {
   "cell_type": "code",
   "execution_count": 1,
   "metadata": {},
   "outputs": [
    {
     "ename": "NameError",
     "evalue": "name 'Student' is not defined",
     "output_type": "error",
     "traceback": [
      "\u001b[1;31m---------------------------------------------------------------------------\u001b[0m",
      "\u001b[1;31mNameError\u001b[0m                                 Traceback (most recent call last)",
      "Cell \u001b[1;32mIn[1], line 2\u001b[0m\n\u001b[0;32m      1\u001b[0m \u001b[38;5;66;03m#object cretaion\u001b[39;00m\n\u001b[1;32m----> 2\u001b[0m s1 \u001b[38;5;241m=\u001b[39m Student() \u001b[38;5;66;03m# object creation using constructor\u001b[39;00m\n\u001b[0;32m      3\u001b[0m s1\u001b[38;5;241m.\u001b[39mname \u001b[38;5;241m=\u001b[39m \u001b[38;5;124m\"\u001b[39m\u001b[38;5;124mRahul\u001b[39m\u001b[38;5;124m\"\u001b[39m\n\u001b[0;32m      4\u001b[0m s1\u001b[38;5;241m.\u001b[39m rollno \u001b[38;5;241m=\u001b[39m \u001b[38;5;124m'\u001b[39m\u001b[38;5;124m0003\u001b[39m\u001b[38;5;124m'\u001b[39m\n",
      "\u001b[1;31mNameError\u001b[0m: name 'Student' is not defined"
     ]
    }
   ],
   "source": [
    "#object cretaion\n",
    "s1 = Student() # object creation using constructor\n",
    "s1.name = \"Rahul\"\n",
    "s1. rollno = '0003'\n",
    "s1.klass = '6th'"
   ]
  },
  {
   "cell_type": "code",
   "execution_count": 3,
   "metadata": {},
   "outputs": [
    {
     "ename": "NameError",
     "evalue": "name 's1' is not defined",
     "output_type": "error",
     "traceback": [
      "\u001b[1;31m---------------------------------------------------------------------------\u001b[0m",
      "\u001b[1;31mNameError\u001b[0m                                 Traceback (most recent call last)",
      "Cell \u001b[1;32mIn[3], line 1\u001b[0m\n\u001b[1;32m----> 1\u001b[0m s1\u001b[38;5;241m.\u001b[39mshow()\n",
      "\u001b[1;31mNameError\u001b[0m: name 's1' is not defined"
     ]
    }
   ],
   "source": [
    "s1.show()"
   ]
  },
  {
   "cell_type": "markdown",
   "metadata": {},
   "source": []
  }
 ],
 "metadata": {
  "kernelspec": {
   "display_name": "base",
   "language": "python",
   "name": "python3"
  },
  "language_info": {
   "codemirror_mode": {
    "name": "ipython",
    "version": 3
   },
   "file_extension": ".py",
   "mimetype": "text/x-python",
   "name": "python",
   "nbconvert_exporter": "python",
   "pygments_lexer": "ipython3",
   "version": "3.11.5"
  }
 },
 "nbformat": 4,
 "nbformat_minor": 2
}
