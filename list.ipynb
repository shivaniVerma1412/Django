{
 "cells": [
  {
   "cell_type": "code",
   "execution_count": 1,
   "metadata": {},
   "outputs": [
    {
     "name": "stdout",
     "output_type": "stream",
     "text": [
      "['apple', 'Grapes', 'orange', 'mango']\n"
     ]
    }
   ],
   "source": [
    "fruits=['apple','Grapes','orange','mango']\n",
    "print(fruits)"
   ]
  },
  {
   "cell_type": "code",
   "execution_count": 2,
   "metadata": {},
   "outputs": [
    {
     "name": "stdout",
     "output_type": "stream",
     "text": [
      "['apple', 'Grapes', 'orange', 'mango', '44', '23.4']\n"
     ]
    }
   ],
   "source": [
    "fruits=['apple','Grapes','orange','mango','44','23.4']\n",
    "print(fruits)"
   ]
  },
  {
   "cell_type": "code",
   "execution_count": 3,
   "metadata": {},
   "outputs": [
    {
     "name": "stdout",
     "output_type": "stream",
     "text": [
      "['apple', 'Grapes', 'orange', 'mango', 44]\n"
     ]
    }
   ],
   "source": [
    "fruits=['apple','Grapes','orange','mango',44]\n",
    "print(fruits)"
   ]
  },
  {
   "cell_type": "code",
   "execution_count": 6,
   "metadata": {},
   "outputs": [
    {
     "name": "stdout",
     "output_type": "stream",
     "text": [
      "mango\n"
     ]
    }
   ],
   "source": [
    "fruits=['apple','Grapes','orange','mango',44,26,56]\n",
    "print(fruits[3])"
   ]
  },
  {
   "cell_type": "code",
   "execution_count": 10,
   "metadata": {},
   "outputs": [
    {
     "name": "stdout",
     "output_type": "stream",
     "text": [
      "orange\n",
      "['apple', 'Grapes', 'orange', 'mango', 44, 26, 56, 'leechi']\n",
      "['apple', 'orange', 'mango', 44, 26, 56, 'leechi']\n",
      "['apple', 'orange', 'papaya', 44, 26, 56, 'leechi']\n"
     ]
    }
   ],
   "source": [
    "fruits=['apple','Grapes','orange','mango',44,26,56]\n",
    "print(fruits[2])\n",
    "fruits.append(\"leechi\")\n",
    "print(fruits)\n",
    "fruits.remove(\"Grapes\")\n",
    "print(fruits)\n",
    "fruits[2]=\"papaya\"\n",
    "print(fruits)"
   ]
  },
  {
   "cell_type": "code",
   "execution_count": 16,
   "metadata": {},
   "outputs": [
    {
     "name": "stdout",
     "output_type": "stream",
     "text": [
      "a\n",
      "e\n",
      "i\n",
      "o\n",
      "a\n",
      "u\n",
      "['a', 'e', 's', 'o', 'a', 'u']\n"
     ]
    }
   ],
   "source": [
    "vowel=['a','e','i','a','u']\n",
    "vowel.insert(3,'o')\n",
    "for vowe in vowel:\n",
    "  print(vowe)\n",
    "vowel[2]= \"s\"\n",
    "print(vowel)"
   ]
  },
  {
   "cell_type": "markdown",
   "metadata": {},
   "source": []
  },
  {
   "cell_type": "markdown",
   "metadata": {},
   "source": [
    "Dictionary\n",
    "key.value pairs"
   ]
  },
  {
   "cell_type": "code",
   "execution_count": 9,
   "metadata": {},
   "outputs": [
    {
     "name": "stdout",
     "output_type": "stream",
     "text": [
      "{'brand': 'suzuki', 'model': 'swift', 'year': 2015, 'color': 'Blue'}\n"
     ]
    }
   ],
   "source": [
    "cars = {\n",
    "    \"brand\":\"suzuki\",\n",
    "    \"model\":\"swift\",\n",
    "    \"year\":2015,\n",
    "    \"color\":\"Blue\"   \n",
    "}\n",
    "print(cars)"
   ]
  },
  {
   "cell_type": "code",
   "execution_count": 10,
   "metadata": {},
   "outputs": [
    {
     "name": "stdout",
     "output_type": "stream",
     "text": [
      "{'brand': 'suzuki', 'model': 'swift', 'year': 2020, 'color': 'Blue'}\n"
     ]
    }
   ],
   "source": [
    "cars = {\n",
    "    \"brand\":\"suzuki\",\n",
    "    \"model\":\"swift\",\n",
    "    \"year\":2015,\n",
    "    \"color\":\"Blue\",\n",
    "    \"year\":2020\n",
    "\n",
    "}\n",
    "print(cars)"
   ]
  },
  {
   "cell_type": "code",
   "execution_count": 1,
   "metadata": {},
   "outputs": [
    {
     "name": "stdout",
     "output_type": "stream",
     "text": [
      "brand\n"
     ]
    }
   ],
   "source": [
    "cars = {\n",
    "    \"brand\":\"suzuki\",\n",
    "    \"model\":\"swift\",\n",
    "    \"year\":2015,\n",
    "    \"color\":\"Blue\",\n",
    "    \"year\":2020\n",
    "\n",
    "}\n",
    "print(\"brand\")"
   ]
  },
  {
   "cell_type": "code",
   "execution_count": 4,
   "metadata": {},
   "outputs": [
    {
     "name": "stdout",
     "output_type": "stream",
     "text": [
      "suzuki\n"
     ]
    }
   ],
   "source": [
    "cars = {\n",
    "    \"brand\":\"suzuki\",\n",
    "    \"model\":\"swift\",\n",
    "    \"year\":2015,\n",
    "    \"color\":\"Blue\",\n",
    "    \"year\":2020\n",
    "\n",
    "}\n",
    "print(cars.get(\"brand\"))"
   ]
  },
  {
   "cell_type": "code",
   "execution_count": 5,
   "metadata": {},
   "outputs": [
    {
     "name": "stdout",
     "output_type": "stream",
     "text": [
      "suzuki\n",
      "['model']\n"
     ]
    }
   ],
   "source": [
    "cars = {\n",
    "    \"brand\":\"suzuki\",\n",
    "    \"model\":\"swift\",\n",
    "    \"year\":2015,\n",
    "    \"color\":\"Blue\",\n",
    "    \"year\":2020\n",
    "\n",
    "}\n",
    "print(cars.get(\"brand\"))\n",
    "print([\"model\"])"
   ]
  },
  {
   "cell_type": "code",
   "execution_count": 15,
   "metadata": {},
   "outputs": [
    {
     "name": "stdout",
     "output_type": "stream",
     "text": [
      "{'brand': 'suzuki', 'model': 'swift', 'year': 2020, 'color': 'Blue', 'name': 'something'}\n",
      "cmklcs\n",
      "['brand']\n"
     ]
    }
   ],
   "source": [
    "cars = {\n",
    "    \"brand\":\"suzuki\",\n",
    "    \"model\":\"swift\",\n",
    "    \"year\":2015,\n",
    "    \"color\":\"Blue\",\n",
    "    \"year\":2020\n",
    "\n",
    "}\n",
    "cars[\"name\"]=\"something\"\n",
    "#del cars[\"color\"]\n",
    "print(cars)\n",
    "cars[\"model\"]=\"cmklcs\"\n",
    "print(cars.get(\"model\"))\n",
    "print([\"brand\"])"
   ]
  },
  {
   "cell_type": "code",
   "execution_count": 20,
   "metadata": {},
   "outputs": [
    {
     "name": "stdout",
     "output_type": "stream",
     "text": [
      "{'a': 10, 'b': 20}\n"
     ]
    }
   ],
   "source": [
    "dict_1 = {\n",
    "    \"a\": 10,\n",
    "    \"b\": 20\n",
    "}\n",
    "dict_2 = {\n",
    "    \"c\":30,\n",
    "    \"d\":40,\n",
    "}\n",
    "print(dict_1)"
   ]
  },
  {
   "cell_type": "code",
   "execution_count": null,
   "metadata": {},
   "outputs": [],
   "source": []
  }
 ],
 "metadata": {
  "kernelspec": {
   "display_name": "base",
   "language": "python",
   "name": "python3"
  },
  "language_info": {
   "codemirror_mode": {
    "name": "ipython",
    "version": 3
   },
   "file_extension": ".py",
   "mimetype": "text/x-python",
   "name": "python",
   "nbconvert_exporter": "python",
   "pygments_lexer": "ipython3",
   "version": "3.11.5"
  }
 },
 "nbformat": 4,
 "nbformat_minor": 2
}
